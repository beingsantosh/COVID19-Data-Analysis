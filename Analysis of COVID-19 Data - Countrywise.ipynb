{
 "cells": [
  {
   "cell_type": "markdown",
   "metadata": {},
   "source": [
    "\n",
    "# Analysis on COVID 19 data\n",
    "\n",
    "## - Extraction of data ( Beautiful soup)\n",
    "## - Cleaning of data (Pandas, numpy)\n",
    "## - Visualization in Jupyter and Tableau ( seaborn, matplotlib)\n",
    "## - Mining interesting insight    \n",
    "\n",
    "__Soure__: https://www.worldometers.info/coronavirus/ and \n",
    "\n",
    "__susequent sources__ : https://www.worldometers.info/coronavirus/about/#sources"
   ]
  },
  {
   "cell_type": "code",
   "execution_count": 1,
   "metadata": {},
   "outputs": [],
   "source": [
    "import requests\n",
    "from bs4 import BeautifulSoup "
   ]
  },
  {
   "cell_type": "code",
   "execution_count": 3,
   "metadata": {},
   "outputs": [],
   "source": [
    "response = requests.get('https://www.worldometers.info/coronavirus/')"
   ]
  },
  {
   "cell_type": "code",
   "execution_count": 5,
   "metadata": {},
   "outputs": [],
   "source": [
    "covid_data = response.content"
   ]
  },
  {
   "cell_type": "code",
   "execution_count": 6,
   "metadata": {},
   "outputs": [],
   "source": [
    "soup = BeautifulSoup(covid_data)"
   ]
  },
  {
   "cell_type": "code",
   "execution_count": null,
   "metadata": {},
   "outputs": [],
   "source": [
    "soup.prettify"
   ]
  },
  {
   "cell_type": "code",
   "execution_count": 26,
   "metadata": {},
   "outputs": [
    {
     "name": "stdout",
     "output_type": "stream",
     "text": [
      "main_table_countries_today\n",
      "main_table_countries_yesterday\n"
     ]
    }
   ],
   "source": [
    "for table in soup.find_all('table'):\n",
    "    print(table.attrs['id'])"
   ]
  },
  {
   "cell_type": "code",
   "execution_count": 95,
   "metadata": {},
   "outputs": [
    {
     "name": "stdout",
     "output_type": "stream",
     "text": [
      "#\n",
      "Country,Other\n",
      "TotalCases\n",
      "NewCases\n",
      "TotalDeaths\n",
      "NewDeaths\n",
      "TotalRecovered\n",
      "ActiveCases\n",
      "Serious,Critical\n",
      "Tot Cases/1M pop\n",
      "Deaths/1M pop\n",
      "TotalTests\n",
      "Tests/\n",
      "1M pop\n",
      "\n",
      "Population\n",
      "Continent\n"
     ]
    }
   ],
   "source": [
    "# will pick data from main_table_countries_today\n",
    "data = soup.find_all('table')[0]\n",
    "column_name = []\n",
    "# look for header first\n",
    "for th in data.find_all('th'):\n",
    "    column_name.append(th.text)\n",
    "    print(th.text)"
   ]
  },
  {
   "cell_type": "code",
   "execution_count": null,
   "metadata": {},
   "outputs": [],
   "source": [
    "# look for all rows \n",
    "for tr in data.find_all('tr'):\n",
    "    print(tr.text)"
   ]
  },
  {
   "cell_type": "code",
   "execution_count": 52,
   "metadata": {},
   "outputs": [
    {
     "name": "stdout",
     "output_type": "stream",
     "text": [
      "\n",
      "\n",
      "North America\n",
      "\n",
      "1,765,720\n",
      "+2,919\n",
      "108,253\n",
      "+436\n",
      "468,319\n",
      "1,189,148\n",
      "18,977\n",
      "\n",
      "\n",
      "\n",
      "\n",
      "\n",
      "North America\n"
     ]
    }
   ],
   "source": [
    "# look for data from one row\n",
    "\n",
    "tr = data.find_all('tr')\n",
    "\n",
    "for td in tr[1].find_all('td'):\n",
    "    print(td.text)"
   ]
  },
  {
   "cell_type": "code",
   "execution_count": 87,
   "metadata": {},
   "outputs": [],
   "source": [
    "# now extracting data from all rows\n",
    "table_data = []\n",
    "for tr in data.find_all('tr'):\n",
    "    row_data=[]\n",
    "    for td in tr.find_all('td'):\n",
    "        row_data.append(td.text)\n",
    "    table_data.append(row_data)"
   ]
  },
  {
   "cell_type": "code",
   "execution_count": 88,
   "metadata": {},
   "outputs": [
    {
     "name": "stdout",
     "output_type": "stream",
     "text": [
      "0 []\n"
     ]
    }
   ],
   "source": [
    "# list inside which are empty\n",
    "for i,lst in enumerate(table_data):\n",
    "    if len(lst)==0:\n",
    "        print(i, lst)"
   ]
  },
  {
   "cell_type": "code",
   "execution_count": 89,
   "metadata": {},
   "outputs": [],
   "source": [
    "# removing the list at index 0\n",
    "table_data.remove([])\n",
    "# table_data.pop(index=0)"
   ]
  },
  {
   "cell_type": "code",
   "execution_count": 91,
   "metadata": {},
   "outputs": [
    {
     "data": {
      "text/plain": [
       "231"
      ]
     },
     "execution_count": 91,
     "metadata": {},
     "output_type": "execute_result"
    }
   ],
   "source": [
    "len(table_data)"
   ]
  },
  {
   "cell_type": "code",
   "execution_count": 221,
   "metadata": {},
   "outputs": [],
   "source": [
    "import pandas as pd\n",
    "import seaborn as sns\n",
    "import numpy as np\n",
    "import matplotlib.pyplot as plt"
   ]
  },
  {
   "cell_type": "code",
   "execution_count": 316,
   "metadata": {},
   "outputs": [],
   "source": [
    "df_covid = pd.DataFrame(data=table_data,columns=column_name)"
   ]
  },
  {
   "cell_type": "code",
   "execution_count": 204,
   "metadata": {},
   "outputs": [
    {
     "data": {
      "text/plain": [
       "<matplotlib.axes._subplots.AxesSubplot at 0x2471bb04108>"
      ]
     },
     "execution_count": 204,
     "metadata": {},
     "output_type": "execute_result"
    },
    {
     "data": {
      "image/png": "[encoded data removed]",
      "text/plain": [
       "<Figure size 432x288 with 2 Axes>"
      ]
     },
     "metadata": {
      "needs_background": "light"
     },
     "output_type": "display_data"
    }
   ],
   "source": [
    "sns.heatmap(df_covid.isna()) # isna function shows that it does not have any null values. however it requires more checking."
   ]
  },
  {
   "cell_type": "code",
   "execution_count": 205,
   "metadata": {},
   "outputs": [
    {
     "data": {
      "text/plain": [
       "(231, 15)"
      ]
     },
     "execution_count": 205,
     "metadata": {},
     "output_type": "execute_result"
    }
   ],
   "source": [
    "df_covid.shape"
   ]
  },
  {
   "cell_type": "code",
   "execution_count": 206,
   "metadata": {},
   "outputs": [
    {
     "name": "stdout",
     "output_type": "stream",
     "text": [
      "<class 'pandas.core.frame.DataFrame'>\n",
      "RangeIndex: 231 entries, 0 to 230\n",
      "Data columns (total 15 columns):\n",
      "#                   231 non-null object\n",
      "Country,Other       231 non-null object\n",
      "TotalCases          231 non-null object\n",
      "NewCases            231 non-null object\n",
      "TotalDeaths         231 non-null object\n",
      "NewDeaths           231 non-null object\n",
      "TotalRecovered      231 non-null object\n",
      "ActiveCases         231 non-null object\n",
      "Serious,Critical    231 non-null object\n",
      "Tot Cases/1M pop    231 non-null object\n",
      "Deaths/1M pop       231 non-null object\n",
      "TotalTests          231 non-null object\n",
      "Tests/\n",
      "1M pop\n",
      "      231 non-null object\n",
      "Population          231 non-null object\n",
      "Continent           231 non-null object\n",
      "dtypes: object(15)\n",
      "memory usage: 27.2+ KB\n"
     ]
    }
   ],
   "source": [
    "df_covid.info()"
   ]
  },
  {
   "cell_type": "code",
   "execution_count": 207,
   "metadata": {},
   "outputs": [
    {
     "data": {
      "text/html": [
       "<div>\n",
       "<style scoped>\n",
       "    .dataframe tbody tr th:only-of-type {\n",
       "        vertical-align: middle;\n",
       "    }\n",
       "\n",
       "    .dataframe tbody tr th {\n",
       "        vertical-align: top;\n",
       "    }\n",
       "\n",
       "    .dataframe thead th {\n",
       "        text-align: right;\n",
       "    }\n",
       "</style>\n",
       "<table border=\"1\" class=\"dataframe\">\n",
       "  <thead>\n",
       "    <tr style=\"text-align: right;\">\n",
       "      <th></th>\n",
       "      <th>#</th>\n",
       "      <th>Country,Other</th>\n",
       "      <th>TotalCases</th>\n",
       "      <th>NewCases</th>\n",
       "      <th>TotalDeaths</th>\n",
       "      <th>NewDeaths</th>\n",
       "      <th>TotalRecovered</th>\n",
       "      <th>ActiveCases</th>\n",
       "      <th>Serious,Critical</th>\n",
       "      <th>Tot Cases/1M pop</th>\n",
       "      <th>Deaths/1M pop</th>\n",
       "      <th>TotalTests</th>\n",
       "      <th>Tests/\\n1M pop\\n</th>\n",
       "      <th>Population</th>\n",
       "      <th>Continent</th>\n",
       "    </tr>\n",
       "  </thead>\n",
       "  <tbody>\n",
       "    <tr>\n",
       "      <td>count</td>\n",
       "      <td>231</td>\n",
       "      <td>231</td>\n",
       "      <td>231</td>\n",
       "      <td>231</td>\n",
       "      <td>231</td>\n",
       "      <td>231</td>\n",
       "      <td>231</td>\n",
       "      <td>231</td>\n",
       "      <td>231</td>\n",
       "      <td>231</td>\n",
       "      <td>231</td>\n",
       "      <td>231</td>\n",
       "      <td>231</td>\n",
       "      <td>231</td>\n",
       "      <td>231</td>\n",
       "    </tr>\n",
       "    <tr>\n",
       "      <td>unique</td>\n",
       "      <td>216</td>\n",
       "      <td>224</td>\n",
       "      <td>203</td>\n",
       "      <td>30</td>\n",
       "      <td>125</td>\n",
       "      <td>15</td>\n",
       "      <td>195</td>\n",
       "      <td>177</td>\n",
       "      <td>75</td>\n",
       "      <td>189</td>\n",
       "      <td>87</td>\n",
       "      <td>185</td>\n",
       "      <td>186</td>\n",
       "      <td>215</td>\n",
       "      <td>8</td>\n",
       "    </tr>\n",
       "    <tr>\n",
       "      <td>top</td>\n",
       "      <td></td>\n",
       "      <td>Total:</td>\n",
       "      <td>18</td>\n",
       "      <td></td>\n",
       "      <td></td>\n",
       "      <td></td>\n",
       "      <td>6</td>\n",
       "      <td>0</td>\n",
       "      <td></td>\n",
       "      <td></td>\n",
       "      <td></td>\n",
       "      <td></td>\n",
       "      <td></td>\n",
       "      <td></td>\n",
       "      <td>Africa</td>\n",
       "    </tr>\n",
       "    <tr>\n",
       "      <td>freq</td>\n",
       "      <td>16</td>\n",
       "      <td>8</td>\n",
       "      <td>5</td>\n",
       "      <td>189</td>\n",
       "      <td>34</td>\n",
       "      <td>202</td>\n",
       "      <td>5</td>\n",
       "      <td>22</td>\n",
       "      <td>88</td>\n",
       "      <td>16</td>\n",
       "      <td>50</td>\n",
       "      <td>46</td>\n",
       "      <td>46</td>\n",
       "      <td>16</td>\n",
       "      <td>59</td>\n",
       "    </tr>\n",
       "  </tbody>\n",
       "</table>\n",
       "</div>"
      ],
      "text/plain": [
       "          # Country,Other TotalCases NewCases TotalDeaths NewDeaths  \\\n",
       "count   231           231        231      231         231       231   \n",
       "unique  216           224        203       30         125        15   \n",
       "top                Total:         18                                  \n",
       "freq     16             8          5      189          34       202   \n",
       "\n",
       "       TotalRecovered ActiveCases Serious,Critical Tot Cases/1M pop  \\\n",
       "count             231         231              231              231   \n",
       "unique            195         177               75              189   \n",
       "top                 6           0                                     \n",
       "freq                5          22               88               16   \n",
       "\n",
       "       Deaths/1M pop TotalTests Tests/\\n1M pop\\n Population Continent  \n",
       "count            231        231              231        231       231  \n",
       "unique            87        185              186        215         8  \n",
       "top                                                            Africa  \n",
       "freq              50         46               46         16        59  "
      ]
     },
     "execution_count": 207,
     "metadata": {},
     "output_type": "execute_result"
    }
   ],
   "source": [
    "df_covid.describe(include = 'all')"
   ]
  },
  {
   "cell_type": "code",
   "execution_count": 208,
   "metadata": {},
   "outputs": [
    {
     "data": {
      "text/plain": [
       "115          \n",
       "127          \n",
       "128          \n",
       "129          \n",
       "130          \n",
       "        ...  \n",
       "124        +8\n",
       "230    +8,623\n",
       "7      +8,623\n",
       "110        +9\n",
       "133        +9\n",
       "Name: NewCases, Length: 231, dtype: object"
      ]
     },
     "execution_count": 208,
     "metadata": {},
     "output_type": "execute_result"
    }
   ],
   "source": [
    "# lets pick one column and sort it in ascending order. and check for any null value.\n",
    "df_covid['NewCases'].sort_values()"
   ]
  },
  {
   "cell_type": "code",
   "execution_count": 209,
   "metadata": {},
   "outputs": [
    {
     "data": {
      "text/plain": [
       "''"
      ]
     },
     "execution_count": 209,
     "metadata": {},
     "output_type": "execute_result"
    }
   ],
   "source": [
    "df_covid['NewCases'][115] \n",
    "# there are lot of cell with '' value. but it is considered as str. So now need to change them into nan."
   ]
  },
  {
   "cell_type": "code",
   "execution_count": 210,
   "metadata": {},
   "outputs": [],
   "source": [
    "df_covid['NewCases'][115] = np.nan"
   ]
  },
  {
   "cell_type": "code",
   "execution_count": 211,
   "metadata": {},
   "outputs": [
    {
     "data": {
      "text/plain": [
       "nan"
      ]
     },
     "execution_count": 211,
     "metadata": {},
     "output_type": "execute_result"
    }
   ],
   "source": [
    "df_covid['NewCases'][115] "
   ]
  },
  {
   "cell_type": "code",
   "execution_count": 212,
   "metadata": {},
   "outputs": [
    {
     "data": {
      "text/plain": [
       "#                   0\n",
       "Country,Other       0\n",
       "TotalCases          0\n",
       "NewCases            1\n",
       "TotalDeaths         0\n",
       "NewDeaths           0\n",
       "TotalRecovered      0\n",
       "ActiveCases         0\n",
       "Serious,Critical    0\n",
       "Tot Cases/1M pop    0\n",
       "Deaths/1M pop       0\n",
       "TotalTests          0\n",
       "Tests/\\n1M pop\\n    0\n",
       "Population          0\n",
       "Continent           0\n",
       "dtype: int64"
      ]
     },
     "execution_count": 212,
     "metadata": {},
     "output_type": "execute_result"
    }
   ],
   "source": [
    "df_covid.isna().sum()"
   ]
  },
  {
   "cell_type": "code",
   "execution_count": 317,
   "metadata": {},
   "outputs": [
    {
     "name": "stdout",
     "output_type": "stream",
     "text": [
      "Tolal null value updated : 675\n"
     ]
    }
   ],
   "source": [
    "# removing all '' cells with np.nan\n",
    "counter=0\n",
    "for i in df_covid:\n",
    "    for index,j in enumerate(df_covid[i]):\n",
    "        if isinstance(j,str) and len(j)==0:\n",
    "            df_covid[i][index]=np.nan\n",
    "            counter+=1\n",
    "print( 'Tolal null value updated :', counter)            "
   ]
  },
  {
   "cell_type": "code",
   "execution_count": 318,
   "metadata": {},
   "outputs": [
    {
     "data": {
      "text/plain": [
       "#                    16\n",
       "Country,Other         0\n",
       "TotalCases            0\n",
       "NewCases            189\n",
       "TotalDeaths           0\n",
       "NewDeaths           202\n",
       "TotalRecovered        2\n",
       "ActiveCases           0\n",
       "Serious,Critical     88\n",
       "Tot Cases/1M pop     16\n",
       "Deaths/1M pop        50\n",
       "TotalTests           46\n",
       "Tests/\\n1M pop\\n     46\n",
       "Population           16\n",
       "Continent             4\n",
       "dtype: int64"
      ]
     },
     "execution_count": 318,
     "metadata": {},
     "output_type": "execute_result"
    }
   ],
   "source": [
    "df_covid.isna().sum()"
   ]
  },
  {
   "cell_type": "code",
   "execution_count": 241,
   "metadata": {},
   "outputs": [
    {
     "data": {
      "text/plain": [
       "<matplotlib.axes._subplots.AxesSubplot at 0x2471d9a46c8>"
      ]
     },
     "execution_count": 241,
     "metadata": {},
     "output_type": "execute_result"
    },
    {
     "data": {
      "image/png": "[encoded data removed]",
      "text/plain": [
       "<Figure size 1440x720 with 2 Axes>"
      ]
     },
     "metadata": {
      "needs_background": "light"
     },
     "output_type": "display_data"
    }
   ],
   "source": [
    "\n",
    "plt.figure(figsize=(20,10))\n",
    "sns.heatmap(df_covid.isna(),cmap='viridis') "
   ]
  },
  {
   "cell_type": "markdown",
   "metadata": {},
   "source": [
    "## There are several cells with null values. Yellow shows null."
   ]
  },
  {
   "cell_type": "markdown",
   "metadata": {},
   "source": [
    "## List of Highly impacted country - Total cases till now\n",
    "\n"
   ]
  },
  {
   "cell_type": "code",
   "execution_count": 319,
   "metadata": {},
   "outputs": [],
   "source": [
    "## change the data type to int, and remove ',' from each number first.\n",
    "df_covid['TotalCases'] = df_covid['TotalCases'].map(lambda x:int(x.replace(',','')))"
   ]
  },
  {
   "cell_type": "code",
   "execution_count": 307,
   "metadata": {},
   "outputs": [],
   "source": [
    "## remove unwanted data & check only top 20 countries\n",
    "df_covid=df_covid[ df_covid['#'].isna() == False]\n"
   ]
  },
  {
   "cell_type": "code",
   "execution_count": 371,
   "metadata": {},
   "outputs": [],
   "source": [
    "df_covid_a = df_covid.sort_values(by='TotalCases',ascending = False).head(20)"
   ]
  },
  {
   "cell_type": "code",
   "execution_count": 454,
   "metadata": {},
   "outputs": [
    {
     "data": {
      "text/plain": [
       "Text(0.5, 0, 'Impacted Countries')"
      ]
     },
     "execution_count": 454,
     "metadata": {},
     "output_type": "execute_result"
    },
    {
     "data": {
      "image/png": "[encoded data removed]",
      "text/plain": [
       "<Figure size 1296x720 with 1 Axes>"
      ]
     },
     "metadata": {
      "needs_background": "light"
     },
     "output_type": "display_data"
    }
   ],
   "source": [
    "plt.figure(figsize=(18,10))\n",
    "sns.barplot(df_covid_a['Country,Other'],df_covid_a['TotalCases'], data=df_covid_a)\n",
    "plt.title('COVID19 - Most Impacted Countries',{'fontsize':20})\n",
    "plt.ylabel('Total Cases Registered',{'fontsize':15})\n",
    "plt.xlabel('Impacted Countries',{'fontsize':15})\n"
   ]
  },
  {
   "cell_type": "markdown",
   "metadata": {},
   "source": [
    "## Most active cases "
   ]
  },
  {
   "cell_type": "code",
   "execution_count": 373,
   "metadata": {},
   "outputs": [],
   "source": [
    "## change the data type to int, and remove ',' from each number first.\n",
    "\n",
    "\n",
    "df_covid['ActiveCases'] = df_covid['ActiveCases'].map(lambda x:int(x.replace(',','')) if isinstance(x,str) else x)"
   ]
  },
  {
   "cell_type": "code",
   "execution_count": 374,
   "metadata": {},
   "outputs": [
    {
     "data": {
      "text/plain": [
       "8      1127286.0\n",
       "9       220341.0\n",
       "10      157780.0\n",
       "14       90089.0\n",
       "18       63582.0\n",
       "         ...    \n",
       "203          0.0\n",
       "197          0.0\n",
       "221          0.0\n",
       "12           NaN\n",
       "26           NaN\n",
       "Name: ActiveCases, Length: 215, dtype: float64"
      ]
     },
     "execution_count": 374,
     "metadata": {},
     "output_type": "execute_result"
    }
   ],
   "source": [
    "df_covid['ActiveCases'].sort_values(ascending = False)"
   ]
  },
  {
   "cell_type": "code",
   "execution_count": 375,
   "metadata": {},
   "outputs": [],
   "source": [
    "df_covid=df_covid[ df_covid['#'].isna() == False]\n",
    "df_covid_b = df_covid.sort_values(by='ActiveCases',ascending = False).head(20)"
   ]
  },
  {
   "cell_type": "code",
   "execution_count": 376,
   "metadata": {},
   "outputs": [
    {
     "data": {
      "text/plain": [
       "Text(0.5, 0, 'Impacted Countries')"
      ]
     },
     "execution_count": 376,
     "metadata": {},
     "output_type": "execute_result"
    },
    {
     "data": {
      "image/png": "[encoded data removed]",
      "text/plain": [
       "<Figure size 1296x720 with 1 Axes>"
      ]
     },
     "metadata": {
      "needs_background": "light"
     },
     "output_type": "display_data"
    }
   ],
   "source": [
    "plt.figure(figsize=(18,10))\n",
    "plt.title('COVID19 Active Cases- Countrywise',{'fontsize':20})\n",
    "\n",
    "sns.barplot(df_covid_b['Country,Other'],df_covid_b['ActiveCases'], data=df_covid_b)\n",
    "plt.ylabel('Total Active Cases',{'fontsize':15})\n",
    "plt.xlabel('Impacted Countries',{'fontsize':15})"
   ]
  },
  {
   "cell_type": "markdown",
   "metadata": {},
   "source": [
    "## Resilient Quality shown  ( Recovery )"
   ]
  },
  {
   "cell_type": "markdown",
   "metadata": {},
   "source": [
    "### Recovery rate would be calculated as ( total cases recovered / total cases registered ) * 100"
   ]
  },
  {
   "cell_type": "code",
   "execution_count": 445,
   "metadata": {},
   "outputs": [],
   "source": [
    "df_covid['TotalRecovered'] = df_covid['TotalRecovered'].map(lambda x:int(x.replace(',','')) \\\n",
    "                                                            if np.logical_and(isinstance(x,str),x!='N/A') else x)"
   ]
  },
  {
   "cell_type": "code",
   "execution_count": 446,
   "metadata": {},
   "outputs": [
    {
     "name": "stdout",
     "output_type": "stream",
     "text": [
      "N/A str\n",
      "N/A str\n",
      "nan float\n",
      "nan float\n"
     ]
    }
   ],
   "source": [
    "# df_covid['RecoveryRate'] = df_covid['TotalRecovered']/df_covid['TotalCases']*100\n",
    "\n",
    "# there are some values which are stopping to make plot. need to remove them.\n",
    "\n",
    "for i in df_covid['TotalRecovered']:\n",
    "    if isinstance(i,str):\n",
    "        print(i, 'str')\n",
    "    elif isinstance(i,float):\n",
    "        print(i, 'float')\n",
    "    \n"
   ]
  },
  {
   "cell_type": "code",
   "execution_count": 447,
   "metadata": {},
   "outputs": [],
   "source": [
    "\n",
    "# UK and Netherland 'TotalRecovered' count is not available. will remove them from plot.\n",
    "\n",
    "df_covid_c = df_covid.drop(labels=(df_covid[df_covid['TotalRecovered']=='N/A']).index,axis=0)"
   ]
  },
  {
   "cell_type": "code",
   "execution_count": 448,
   "metadata": {},
   "outputs": [
    {
     "name": "stdout",
     "output_type": "stream",
     "text": [
      "(213, 15) --- (215, 15)\n"
     ]
    }
   ],
   "source": [
    "print(df_covid_c.shape,'---', df_covid.shape) # two rows deleted from df_covid_c"
   ]
  },
  {
   "cell_type": "code",
   "execution_count": 449,
   "metadata": {},
   "outputs": [],
   "source": [
    "df_covid_c['RecoveryRate'] = df_covid_c['TotalRecovered']/df_covid_c['TotalCases']*100"
   ]
  },
  {
   "cell_type": "code",
   "execution_count": 450,
   "metadata": {},
   "outputs": [
    {
     "data": {
      "text/plain": [
       "8       23.277\n",
       "9      27.6614\n",
       "10     39.7751\n",
       "11     70.4619\n",
       "13     58.1807\n",
       "        ...   \n",
       "218        100\n",
       "219        100\n",
       "220        NaN\n",
       "221        100\n",
       "222    94.3134\n",
       "Name: RecoveryRate, Length: 213, dtype: object"
      ]
     },
     "execution_count": 450,
     "metadata": {},
     "output_type": "execute_result"
    }
   ],
   "source": [
    "df_covid_c['RecoveryRate']"
   ]
  },
  {
   "cell_type": "code",
   "execution_count": 452,
   "metadata": {},
   "outputs": [],
   "source": [
    "df_covid_c1 = df_covid_c.sort_values(by=['TotalCases'],ascending = False).head(20)"
   ]
  },
  {
   "cell_type": "code",
   "execution_count": 453,
   "metadata": {},
   "outputs": [
    {
     "data": {
      "text/plain": [
       "Text(0.5, 0, 'Impacted Countries')"
      ]
     },
     "execution_count": 453,
     "metadata": {},
     "output_type": "execute_result"
    },
    {
     "data": {
      "image/png": "[encoded data removed]",
      "text/plain": [
       "<Figure size 1296x720 with 1 Axes>"
      ]
     },
     "metadata": {
      "needs_background": "light"
     },
     "output_type": "display_data"
    }
   ],
   "source": [
    "plt.figure(figsize=(18,10))\n",
    "plt.title('COVID19 Resilient Power- Countrywise',{'fontsize':20})\n",
    "\n",
    "sns.barplot(df_covid_c1['Country,Other'],df_covid_c1['RecoveryRate'], data=df_covid_c1)\n",
    "plt.ylabel('Recovery Rate',{'fontsize':15})\n",
    "plt.xlabel('Impacted Countries',{'fontsize':15})"
   ]
  },
  {
   "cell_type": "markdown",
   "metadata": {},
   "source": [
    "## Below countries are recovering fast as per the data - \n",
    "- China\n",
    "- Germany\n",
    "- Iran\n",
    "- Turkey\n",
    "- Spain\n",
    "- Mexico\n",
    "\n",
    "Above countries have managed to recover more than 60%. \n",
    "\n",
    "Next will export the data in Tableau: and further data mining would be carried out. Updated version will be updated here. "
   ]
  },
  {
   "cell_type": "code",
   "execution_count": null,
   "metadata": {},
   "outputs": [],
   "source": []
  }
 ],
 "metadata": {
  "kernelspec": {
   "display_name": "Python 3",
   "language": "python",
   "name": "python3"
  },
  "language_info": {
   "codemirror_mode": {
    "name": "ipython",
    "version": 3
   },
   "file_extension": ".py",
   "mimetype": "text/x-python",
   "name": "python",
   "nbconvert_exporter": "python",
   "pygments_lexer": "ipython3",
   "version": "3.7.4"
  }
 },
 "nbformat": 4,
 "nbformat_minor": 2
}
